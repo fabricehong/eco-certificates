{
 "cells": [
  {
   "cell_type": "markdown",
   "metadata": {},
   "source": [
    "# Analyse d'Impact Écologique\n",
    "\n",
    "Ce notebook fonctionne à la fois localement et sur Google Colab."
   ]
  },
  {
   "cell_type": "code",
   "execution_count": null,
   "metadata": {},
   "outputs": [],
   "source": [
    "def setup_environment():\n",
    "    import sys\n",
    "    from pathlib import Path\n",
    "    global project_root\n",
    "    \n",
    "    # Détecter si on est sur Colab\n",
    "    try:\n",
    "        import google.colab\n",
    "        print(\"Environnement Colab détecté, configuration...\")\n",
    "        !git clone https://github.com/fabricehong/eco-certificates.git\n",
    "        %cd eco-certificates\n",
    "        project_root = Path().absolute()\n",
    "    except ImportError:\n",
    "        print(\"Environnement local détecté, configuration...\")\n",
    "        # En local, on ajoute juste le répertoire parent au PYTHONPATH\n",
    "        project_root = Path().absolute().parent\n",
    "        if str(project_root) not in sys.path:\n",
    "            sys.path.append(str(project_root))\n",
    "\n",
    "setup_environment()"
   ]
  },
  {
   "cell_type": "code",
   "execution_count": null,
   "metadata": {},
   "outputs": [],
   "source": [
    "from pathlib import Path\n",
    "\n",
    "from src.services.csv_parser import CsvParser\n",
    "from src.services.score_calculator import ScoreCalculator\n",
    "from src.services.certificate_generator import CertificateGenerator, ScorePosition\n",
    "\n",
    "# Créer le parser et le calculateur\n",
    "parser = CsvParser(project_root / \"input/product and service form - small.csv\", score_component_size=5)\n",
    "calculator = ScoreCalculator(component_size=5)\n",
    "\n",
    "# Configurer le générateur de certificats\n",
    "x = 150\n",
    "generator = CertificateGenerator(\n",
    "    certificate_template=project_root / \"images/certificate.png\",\n",
    "    active_leaf=project_root / \"images/active-leave.jpg\",\n",
    "    inactive_leaf=project_root / \"images/unactive-leave.jpg\",\n",
    "    # Positions par défaut des scores (à ajuster selon l'image)\n",
    "    local_position=ScorePosition(x=x, y=820),\n",
    "    eco_position=ScorePosition(x=x, y=1100),\n",
    "    living_position=ScorePosition(x=x, y=1350),\n",
    "    leaf_spacing=100,  # Espacement entre les feuilles\n",
    "    leaf_width=90     # Largeur des feuilles, la hauteur sera calculée pour garder le ratio\n",
    ")\n",
    "\n",
    "# Créer le dossier output s'il n'existe pas\n",
    "output_dir = project_root / \"output\"\n",
    "output_dir.mkdir(exist_ok=True)"
   ]
  },
  {
   "cell_type": "code",
   "execution_count": null,
   "metadata": {},
   "outputs": [],
   "source": [
    "# Lire et traiter les produits\n",
    "csv_products = parser.parse_products()\n",
    "products_count = 0\n",
    "\n",
    "# Pour chaque produit\n",
    "for csv_product in csv_products:\n",
    "    # Calculer les scores\n",
    "    product = calculator.transform_product(csv_product)\n",
    "    print(f\"Produit traité avec succès : {product.name}\")\n",
    "    products_count += 1\n",
    "    \n",
    "    # Générer le certificat avec le score approprié (product ou service)\n",
    "    score = (product.product_scores if product.product_scores.values_found \n",
    "            else product.service_scores)\n",
    "    \n",
    "    # Générer le nom du fichier\n",
    "    filename = product.name.lower().replace(\" \", \"_\") + \"_certificate.png\"\n",
    "    output_path = output_dir / filename\n",
    "    \n",
    "    # Générer le certificat\n",
    "    generator.generate_certificate(score, output_path)\n",
    "\n",
    "# Afficher les détails\n",
    "print(\"\\nDétails des produits avec scores :\")\n",
    "print(\"=\" * 50)\n",
    "for csv_product in csv_products:\n",
    "    product = calculator.transform_product(csv_product)\n",
    "    print(product)\n",
    "    filename = product.name.lower().replace(\" \", \"_\") + \"_certificate.png\"\n",
    "    print(f\"Certificat généré : output/{filename}\")\n",
    "    print(\"=\" * 50)\n",
    "\n",
    "print(f\"\\nNombre de produits traités : {products_count}\")"
   ]
  }
 ],
 "metadata": {
  "kernelspec": {
   "display_name": "venv",
   "language": "python",
   "name": "python3"
  },
  "language_info": {
   "codemirror_mode": {
    "name": "ipython",
    "version": 3
   },
   "file_extension": ".py",
   "mimetype": "text/x-python",
   "name": "python",
   "nbconvert_exporter": "python",
   "pygments_lexer": "ipython3",
   "version": "3.11.0"
  }
 },
 "nbformat": 4,
 "nbformat_minor": 4
}
